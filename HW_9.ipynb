{
  "nbformat": 4,
  "nbformat_minor": 0,
  "metadata": {
    "colab": {
      "provenance": [],
      "authorship_tag": "ABX9TyOzVki/LViYM6HJV1xJ0HxE"
    },
    "kernelspec": {
      "name": "python3",
      "display_name": "Python 3"
    },
    "language_info": {
      "name": "python"
    }
  },
  "cells": [
    {
      "cell_type": "code",
      "source": [
        "Задача 40\n",
        "Работать с файлом california_housing_train.csv, который находится в папке sample_data. Определить среднюю стоимость дома, где кол-во людей от 0 до 500 (population)\n",
        "\n",
        "\n",
        "import pandas as pd\n",
        "\n",
        "\n",
        "file_path = '/content/sample_data/california_housing_train.csv'\n",
        "df = pd.read_csv(file_path, sep=',')\n",
        "\n",
        "\n",
        "df['population'].min()\n",
        "\n",
        "3.0\n",
        "\n",
        "df[df['population'] < 500].median_house_value.mean()\n",
        "\n",
        "206683.83635227982\n",
        "Задача 42\n",
        "Узнать какая максимальная households в зоне минимального значения population\n",
        "\n",
        "\n",
        "df[df['population'] == df['population'].min()].households.max()\n",
        "\n",
        "4.0"
      ],
      "metadata": {
        "id": "uNbpDTQe73YD"
      },
      "execution_count": null,
      "outputs": []
    }
  ]
}